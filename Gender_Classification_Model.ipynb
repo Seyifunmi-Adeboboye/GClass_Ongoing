{
 "cells": [
  {
   "cell_type": "markdown",
   "id": "57e80975",
   "metadata": {},
   "source": [
    "# Importing Necessary Packeges and Loading Training Dataset"
   ]
  },
  {
   "cell_type": "code",
   "execution_count": 1,
   "id": "d75b1e15",
   "metadata": {},
   "outputs": [],
   "source": [
    "from PIL import Image\n",
    "import matplotlib.pyplot as plt\n",
    "import seaborn as sns\n",
    "import pandas as pd \n",
    "import numpy as np\n",
    "import matplotlib.pyplot as plt\n",
    "import os\n",
    "\n",
    "from sklearn.model_selection import train_test_split\n",
    "from sklearn.metrics import confusion_matrix\n",
    "from keras.models import Sequential, load_model\n",
    "from keras.layers import Dense, Dropout, Activation, Flatten\n",
    "from keras.layers import Conv2D, MaxPooling2D\n",
    "from tensorflow.keras.optimizers import Nadam\n",
    "        \n",
    "men_images = './Gender_Classifier/Gender_Classification_Images/faces/Enhanced_Images/train/0/'\n",
    "women_images = './Gender_Classifier/Gender_Classification_Images/faces/Enhanced_Images/train/1/'\n",
    "\n",
    "def load_img(images, filePath, label, imageSize):\n",
    "    image_list = os.listdir(filePath)\n",
    "    for img in image_list:\n",
    "        picture = Image.open(filePath+img)\n",
    "        new_size = picture.resize((imageSize, imageSize))\n",
    "        new_sizeArr = np.asarray(new_size)\n",
    "        new_sizeLa = (new_sizeArr, label)\n",
    "        images.append(new_sizeLa)"
   ]
  },
  {
   "cell_type": "code",
   "execution_count": 2,
   "id": "fe0a421c",
   "metadata": {},
   "outputs": [],
   "source": [
    "data_list = []\n",
    "imageSize = 100\n",
    "\n",
    "load_img(data_list, men_images, 0, imageSize)\n",
    "load_img(data_list, women_images, 1, imageSize)"
   ]
  },
  {
   "cell_type": "code",
   "execution_count": 3,
   "id": "0894a930",
   "metadata": {},
   "outputs": [],
   "source": [
    "np.random.shuffle(data_list)\n",
    "data_list = list(zip(*data_list))"
   ]
  },
  {
   "cell_type": "code",
   "execution_count": 4,
   "id": "59fae588",
   "metadata": {},
   "outputs": [],
   "source": [
    "data = np.asarray(list(data_list[0]))\n",
    "labels = np.asarray(list(data_list[1]))\n",
    "trainX, testX, trainY, testY = train_test_split(data, labels, test_size = 0.20, random_state = 0)\n",
    "\n",
    "# Feature scaling\n",
    "trainX_nor = trainX.astype('float32') / 255.0\n",
    "testX_nor = testX.astype('float32') / 255.0"
   ]
  },
  {
   "cell_type": "code",
   "execution_count": 8,
   "id": "89ef9069",
   "metadata": {},
   "outputs": [
    {
     "data": {
      "text/plain": [
       "(11200, 100, 100, 3)"
      ]
     },
     "execution_count": 8,
     "metadata": {},
     "output_type": "execute_result"
    }
   ],
   "source": [
    "trainX_nor.shape"
   ]
  },
  {
   "cell_type": "code",
   "execution_count": 9,
   "id": "3f64f83b",
   "metadata": {},
   "outputs": [
    {
     "data": {
      "text/plain": [
       "(11200,)"
      ]
     },
     "execution_count": 9,
     "metadata": {},
     "output_type": "execute_result"
    }
   ],
   "source": [
    "trainY.shape"
   ]
  },
  {
   "cell_type": "code",
   "execution_count": 10,
   "id": "ad00e1e1",
   "metadata": {},
   "outputs": [],
   "source": [
    "trainY = np.reshape(trainY, (11200,1))"
   ]
  },
  {
   "cell_type": "markdown",
   "id": "cf7db947",
   "metadata": {},
   "source": [
    "# Model Development & Architecture"
   ]
  },
  {
   "cell_type": "code",
   "execution_count": 12,
   "id": "b88fa411",
   "metadata": {},
   "outputs": [],
   "source": [
    "model = Sequential()\n",
    "\n",
    "model.add(Conv2D(32, (3, 3), padding=\"same\", input_shape =(imageSize, imageSize, 3),\n",
    "                 activation = 'relu'))\n",
    "model.add(MaxPooling2D(pool_size=(2, 2)))\n",
    "\n",
    "model.add(Conv2D(32, (3, 3), padding=\"same\", activation = 'relu'))\n",
    "model.add(MaxPooling2D(pool_size=(2, 2)))\n",
    "\n",
    "model.add(Conv2D(64, (3, 3), padding=\"same\", activation = 'relu'))\n",
    "model.add(MaxPooling2D(pool_size=(2, 2)))\n",
    "\n",
    "model.add(Flatten())\n",
    "model.add(Dropout(0.6))\n",
    "model.add(Dense(128, activation = 'relu'))\n",
    "model.add(Dropout(0.4))\n",
    "model.add(Dense(128, activation = 'relu'))\n",
    "model.add(Dropout(0.2))\n",
    "\n",
    "# sigmoid classifier\n",
    "model.add(Dense(units = 1, activation = 'sigmoid'))\n"
   ]
  },
  {
   "cell_type": "code",
   "execution_count": 13,
   "id": "9eac6866",
   "metadata": {},
   "outputs": [],
   "source": [
    "model.compile(loss = \"binary_crossentropy\", optimizer = 'nadam', metrics = [\"accuracy\"])"
   ]
  },
  {
   "cell_type": "code",
   "execution_count": 14,
   "id": "b26168c9",
   "metadata": {},
   "outputs": [
    {
     "name": "stdout",
     "output_type": "stream",
     "text": [
      "Model: \"sequential\"\n",
      "_________________________________________________________________\n",
      " Layer (type)                Output Shape              Param #   \n",
      "=================================================================\n",
      " conv2d (Conv2D)             (None, 100, 100, 32)      896       \n",
      "                                                                 \n",
      " max_pooling2d (MaxPooling2D  (None, 50, 50, 32)       0         \n",
      " )                                                               \n",
      "                                                                 \n",
      " conv2d_1 (Conv2D)           (None, 50, 50, 32)        9248      \n",
      "                                                                 \n",
      " max_pooling2d_1 (MaxPooling  (None, 25, 25, 32)       0         \n",
      " 2D)                                                             \n",
      "                                                                 \n",
      " conv2d_2 (Conv2D)           (None, 25, 25, 64)        18496     \n",
      "                                                                 \n",
      " max_pooling2d_2 (MaxPooling  (None, 12, 12, 64)       0         \n",
      " 2D)                                                             \n",
      "                                                                 \n",
      " flatten (Flatten)           (None, 9216)              0         \n",
      "                                                                 \n",
      " dropout (Dropout)           (None, 9216)              0         \n",
      "                                                                 \n",
      " dense (Dense)               (None, 128)               1179776   \n",
      "                                                                 \n",
      " dropout_1 (Dropout)         (None, 128)               0         \n",
      "                                                                 \n",
      " dense_1 (Dense)             (None, 128)               16512     \n",
      "                                                                 \n",
      " dropout_2 (Dropout)         (None, 128)               0         \n",
      "                                                                 \n",
      " dense_2 (Dense)             (None, 1)                 129       \n",
      "                                                                 \n",
      "=================================================================\n",
      "Total params: 1,225,057\n",
      "Trainable params: 1,225,057\n",
      "Non-trainable params: 0\n",
      "_________________________________________________________________\n"
     ]
    }
   ],
   "source": [
    "model.summary()"
   ]
  },
  {
   "cell_type": "code",
   "execution_count": 15,
   "id": "62e80bb0",
   "metadata": {},
   "outputs": [
    {
     "name": "stdout",
     "output_type": "stream",
     "text": [
      "Epoch 1/10\n",
      "70/70 [==============================] - 470s 7s/step - loss: 0.6288 - accuracy: 0.6336 - val_loss: 0.4722 - val_accuracy: 0.7786\n",
      "Epoch 2/10\n",
      "70/70 [==============================] - 455s 6s/step - loss: 0.4642 - accuracy: 0.7801 - val_loss: 0.3980 - val_accuracy: 0.8134\n",
      "Epoch 3/10\n",
      "70/70 [==============================] - 451s 6s/step - loss: 0.3845 - accuracy: 0.8235 - val_loss: 0.3411 - val_accuracy: 0.8397\n",
      "Epoch 4/10\n",
      "70/70 [==============================] - 450s 6s/step - loss: 0.3495 - accuracy: 0.8415 - val_loss: 0.3206 - val_accuracy: 0.8656\n",
      "Epoch 5/10\n",
      "70/70 [==============================] - 11192s 162s/step - loss: 0.3118 - accuracy: 0.8606 - val_loss: 0.2827 - val_accuracy: 0.8750\n",
      "Epoch 6/10\n",
      "70/70 [==============================] - 8238s 119s/step - loss: 0.2918 - accuracy: 0.8693 - val_loss: 0.2724 - val_accuracy: 0.8701\n",
      "Epoch 7/10\n",
      "70/70 [==============================] - 124s 2s/step - loss: 0.2727 - accuracy: 0.8806 - val_loss: 0.2733 - val_accuracy: 0.8790\n",
      "Epoch 8/10\n",
      "70/70 [==============================] - 124s 2s/step - loss: 0.2632 - accuracy: 0.8839 - val_loss: 0.2519 - val_accuracy: 0.8893\n",
      "Epoch 9/10\n",
      "70/70 [==============================] - 125s 2s/step - loss: 0.2429 - accuracy: 0.8989 - val_loss: 0.2387 - val_accuracy: 0.8938\n",
      "Epoch 10/10\n",
      "70/70 [==============================] - 125s 2s/step - loss: 0.2258 - accuracy: 0.9026 - val_loss: 0.2474 - val_accuracy: 0.8875\n"
     ]
    }
   ],
   "source": [
    "H = model.fit(trainX_nor, trainY, validation_split=0.2, batch_size=128, epochs=10, verbose=1)"
   ]
  },
  {
   "cell_type": "code",
   "execution_count": 18,
   "id": "978e794b",
   "metadata": {},
   "outputs": [
    {
     "data": {
      "image/png": "[encoded data removed]",
      "text/plain": [
       "<Figure size 432x288 with 1 Axes>"
      ]
     },
     "metadata": {
      "needs_background": "light"
     },
     "output_type": "display_data"
    },
    {
     "data": {
      "image/png": "[encoded data removed]",
      "text/plain": [
       "<Figure size 432x288 with 1 Axes>"
      ]
     },
     "metadata": {
      "needs_background": "light"
     },
     "output_type": "display_data"
    }
   ],
   "source": [
    "def show_train_history(H, train, validation):\n",
    "    plt.plot(H.history[train])\n",
    "    plt.plot(H.history[validation])\n",
    "    plt.title('Train History')\n",
    "    plt.ylabel(train)\n",
    "    plt.xlabel('Epoch')\n",
    "    plt.legend(['train', 'validation'], loc='upper left')\n",
    "    plt.show()\n",
    "    \n",
    "show_train_history(H, 'accuracy', 'val_accuracy')\n",
    "show_train_history(H, 'loss', 'val_loss') "
   ]
  },
  {
   "cell_type": "code",
   "execution_count": 20,
   "id": "23effcc5",
   "metadata": {},
   "outputs": [
    {
     "data": {
      "text/plain": [
       "0.8824999928474426"
      ]
     },
     "execution_count": 20,
     "metadata": {},
     "output_type": "execute_result"
    }
   ],
   "source": [
    "scores = model.evaluate(testX_nor, testY, verbose=0)\n",
    "scores[1]"
   ]
  },
  {
   "cell_type": "code",
   "execution_count": 39,
   "id": "16a96069",
   "metadata": {},
   "outputs": [
    {
     "data": {
      "text/plain": [
       "(2800, 1)"
      ]
     },
     "execution_count": 39,
     "metadata": {},
     "output_type": "execute_result"
    }
   ],
   "source": [
    "predict_X = (model.predict(testX_nor)>0.5).astype(\"int32\")\n",
    "predict_X.shape"
   ]
  },
  {
   "cell_type": "markdown",
   "id": "aaacc37a",
   "metadata": {},
   "source": [
    "# Model Evaluation"
   ]
  },
  {
   "cell_type": "code",
   "execution_count": 40,
   "id": "d280f492",
   "metadata": {},
   "outputs": [
    {
     "data": {
      "text/html": [
       "<div>\n",
       "<style scoped>\n",
       "    .dataframe tbody tr th:only-of-type {\n",
       "        vertical-align: middle;\n",
       "    }\n",
       "\n",
       "    .dataframe tbody tr th {\n",
       "        vertical-align: top;\n",
       "    }\n",
       "\n",
       "    .dataframe thead th {\n",
       "        text-align: right;\n",
       "    }\n",
       "</style>\n",
       "<table border=\"1\" class=\"dataframe\">\n",
       "  <thead>\n",
       "    <tr style=\"text-align: right;\">\n",
       "      <th>predict</th>\n",
       "      <th>0</th>\n",
       "      <th>1</th>\n",
       "    </tr>\n",
       "    <tr>\n",
       "      <th>label</th>\n",
       "      <th></th>\n",
       "      <th></th>\n",
       "    </tr>\n",
       "  </thead>\n",
       "  <tbody>\n",
       "    <tr>\n",
       "      <th>0</th>\n",
       "      <td>1184</td>\n",
       "      <td>143</td>\n",
       "    </tr>\n",
       "    <tr>\n",
       "      <th>1</th>\n",
       "      <td>186</td>\n",
       "      <td>1287</td>\n",
       "    </tr>\n",
       "  </tbody>\n",
       "</table>\n",
       "</div>"
      ],
      "text/plain": [
       "predict     0     1\n",
       "label              \n",
       "0        1184   143\n",
       "1         186  1287"
      ]
     },
     "execution_count": 40,
     "metadata": {},
     "output_type": "execute_result"
    }
   ],
   "source": [
    "pd.crosstab(testY,predict_X.reshape(-1),\n",
    "            rownames=['label'],colnames=['predict'])"
   ]
  },
  {
   "cell_type": "code",
   "execution_count": 42,
   "id": "f06f5a58",
   "metadata": {},
   "outputs": [
    {
     "name": "stdout",
     "output_type": "stream",
     "text": [
      "\n",
      "Confusion matrix :\n"
     ]
    },
    {
     "data": {
      "image/png": "[encoded data removed]",
      "text/plain": [
       "<Figure size 720x504 with 2 Axes>"
      ]
     },
     "metadata": {
      "needs_background": "light"
     },
     "output_type": "display_data"
    }
   ],
   "source": [
    "\n",
    "print('\\nConfusion matrix :')\n",
    "cm = confusion_matrix(testY, predict_X)\n",
    "\n",
    "def confusionMatrix(a):\n",
    "    plt.figure(figsize = (10, 7))\n",
    "    sns.heatmap(a, annot = True)\n",
    "    plt.xlabel('Predicted')\n",
    "    plt.ylabel('Truth')\n",
    "    \n",
    "confusionMatrix(cm)"
   ]
  }
 ],
 "metadata": {
  "kernelspec": {
   "display_name": "Python 3",
   "language": "python",
   "name": "python3"
  },
  "language_info": {
   "codemirror_mode": {
    "name": "ipython",
    "version": 3
   },
   "file_extension": ".py",
   "mimetype": "text/x-python",
   "name": "python",
   "nbconvert_exporter": "python",
   "pygments_lexer": "ipython3",
   "version": "3.8.8"
  }
 },
 "nbformat": 4,
 "nbformat_minor": 5
}
